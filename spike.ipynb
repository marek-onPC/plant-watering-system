{
 "cells": [
  {
   "cell_type": "markdown",
   "metadata": {},
   "source": [
    "# Plant watering system\n",
    "\n",
    "## Objective\n",
    "\n",
    "Create an automated plant watering system to maintain optimal moisture levels in outoor plants during prolonged owner absences.\n",
    "Use easily available materials and devices for easiest developement and maintanance.\n",
    "\n",
    "**Requirements:**\n",
    "- Control: automated  (by microcontroller)\n",
    "- Water source: prefilled water tank/bucket\n",
    "- Power source: battery\n",
    "- Number of plants to care for: 6 of medium size, 8 of small size\n",
    "\n",
    "**Scope:**\n",
    "1. Define the type of equipment needed.\n",
    "2. Select specific devices (e.g., models of microcontrollers).\n",
    "3. Define the device scheme (i.e., representation of physical implementation).\n",
    "4. Code the microcontroller.\n",
    "5. Test, evaluate, and implement corrections if needed.\n",
    "\n",
    "## Equipment\n",
    "\n",
    "A typical small plant watering system would consist of:\n",
    "\n",
    "- a water pump\n",
    "- a control unit\n",
    "- a power source\n",
    "- a water tank\n",
    "- pipes"
   ]
  }
 ],
 "metadata": {
  "language_info": {
   "name": "python"
  }
 },
 "nbformat": 4,
 "nbformat_minor": 2
}
